{
 "cells": [
  {
   "cell_type": "code",
   "execution_count": 1,
   "id": "b13f5641",
   "metadata": {},
   "outputs": [],
   "source": [
    "#!pip install lightgbm\n",
    "#!pip install optuna\n",
    "#!pip memoized_property"
   ]
  },
  {
   "cell_type": "code",
   "execution_count": 2,
   "id": "4c4bcc2c",
   "metadata": {},
   "outputs": [],
   "source": [
    "%load_ext autoreload\n",
    "%autoreload 2"
   ]
  },
  {
   "cell_type": "code",
   "execution_count": 3,
   "id": "28051581",
   "metadata": {},
   "outputs": [],
   "source": [
    "from income.ml_trainer import LigthTrainer\n",
    "from s3_utils import read_pd_from_parquet, write_pickle, read_pickle"
   ]
  },
  {
   "cell_type": "code",
   "execution_count": 4,
   "id": "882b7314",
   "metadata": {},
   "outputs": [
    {
     "name": "stdout",
     "output_type": "stream",
     "text": [
      "Running script locally\n"
     ]
    }
   ],
   "source": [
    "import pandas as pd\n",
    "import gc\n",
    "from sklearn.model_selection import train_test_split\n",
    "import optuna\n",
    "from sklearn.metrics import mean_absolute_percentage_error as MAPE\n",
    "from sklearn.metrics import mean_squared_error \n",
    "\n",
    "import lightgbm as lgbm\n",
    "import joblib\n",
    "import warnings\n",
    "warnings.filterwarnings('ignore')\n",
    "\n",
    "import numpy as np\n",
    "import pandas as pd\n",
    "import matplotlib.pyplot as plt\n",
    "import seaborn as sns\n",
    "import optuna \n",
    "from optuna.visualization import plot_optimization_history, plot_param_importances\n",
    "from optuna import Trial, visualization\n",
    "from optuna.samplers import TPESampler\n",
    "\n",
    "from sklearn.metrics import mean_squared_error\n",
    "from sklearn.model_selection import train_test_split\n",
    "from statistics import mean\n",
    "from s3_utils.s3_utils import write_parquet_from_pd, read_pd_from_parquet, start_logger,write_pickle,read_pickle\n",
    "\n",
    "from s3_utils import read_pd_from_csv\n",
    "from income.data_validation import quality_check,missing_threshold,df_optimized\n",
    "pd.set_option('display.max_rows', 500)\n",
    "\n",
    "\n",
    "import logging\n",
    "import sys\n",
    "from s3_utils import write_parquet_from_pd\n",
    "\n",
    "try:\n",
    "    from awsglue.utils import getResolvedOptions\n",
    "\n",
    "    args = getResolvedOptions(sys.argv, [\"path\"])\n",
    "    path = args[\"path\"]\n",
    "except Exception as error:\n",
    "    print(\"Running script locally\")\n",
    "    path = \"glue_scripts/output\""
   ]
  },
  {
   "cell_type": "code",
   "execution_count": 5,
   "id": "6537ec1d",
   "metadata": {},
   "outputs": [
    {
     "data": {
      "text/plain": [
       "(13147, 50)"
      ]
     },
     "execution_count": 5,
     "metadata": {},
     "output_type": "execute_result"
    }
   ],
   "source": [
    "prospectos = pd.read_csv(\"s3://data-science-kavak-dev/projects/cerberus/v2/dev/income/data/prospectos.csv\", index_col=0)\n",
    "prospectos.shape"
   ]
  },
  {
   "cell_type": "code",
   "execution_count": 6,
   "id": "13033a67",
   "metadata": {},
   "outputs": [
    {
     "data": {
      "text/plain": [
       "(13943, 50)"
      ]
     },
     "execution_count": 6,
     "metadata": {},
     "output_type": "execute_result"
    }
   ],
   "source": [
    "aprobados = pd.read_csv(\"s3://data-science-kavak-dev/projects/cerberus/v2/dev/income/data/aprobados.csv\", usecols=prospectos.columns)\n",
    "aprobados.shape"
   ]
  },
  {
   "cell_type": "code",
   "execution_count": 7,
   "id": "a5e3eafe",
   "metadata": {},
   "outputs": [
    {
     "data": {
      "text/plain": [
       "(27090, 50)"
      ]
     },
     "execution_count": 7,
     "metadata": {},
     "output_type": "execute_result"
    }
   ],
   "source": [
    "df = pd.concat([aprobados, prospectos], ignore_index=True, sort=False)\n",
    "df.shape"
   ]
  },
  {
   "cell_type": "code",
   "execution_count": 8,
   "id": "db52c5f0",
   "metadata": {},
   "outputs": [],
   "source": [
    "#del aprobados\n",
    "del prospectos\n",
    "\n",
    "df = df.drop_duplicates(subset=\"researchable_id\", keep=\"last\")\n",
    "df = df.query(\"ingreso_neto_comprobado > 8000 & ingreso_neto_comprobado < 300000\")\n",
    "df = df.query(\"net_income_verified > 8000 & net_income_verified < 600000\")\n",
    "df = df[df[\"net_income_verified\"]>=df[\"ingreso_neto_comprobado\"]]"
   ]
  },
  {
   "cell_type": "code",
   "execution_count": 9,
   "id": "e02490ea",
   "metadata": {},
   "outputs": [
    {
     "name": "stdout",
     "output_type": "stream",
     "text": [
      "optimized size by 51.0 % | 0.003732771 GB\n"
     ]
    }
   ],
   "source": [
    "df = df_optimized(df)"
   ]
  },
  {
   "cell_type": "code",
   "execution_count": 10,
   "id": "ae151355",
   "metadata": {},
   "outputs": [],
   "source": [
    "#quality_check(df)"
   ]
  },
  {
   "cell_type": "code",
   "execution_count": 11,
   "id": "2c457739",
   "metadata": {},
   "outputs": [],
   "source": [
    "test_df = aprobados.sample(3714)\n",
    "train = df.loc[~df.researchable_id.isin(test_df.researchable_id),]\n",
    "train.to_csv(\"data/train.csv\")\n",
    "test_df.to_csv(\"data/test.csv\")"
   ]
  },
  {
   "cell_type": "code",
   "execution_count": 12,
   "id": "8095f198",
   "metadata": {},
   "outputs": [],
   "source": [
    "del df"
   ]
  },
  {
   "cell_type": "markdown",
   "id": "86114e19",
   "metadata": {},
   "source": [
    "for df in [test_df,train,aprobados]:\n",
    "    df  = df_optimized(df)\n"
   ]
  },
  {
   "cell_type": "code",
   "execution_count": 14,
   "id": "5113957d",
   "metadata": {},
   "outputs": [],
   "source": [
    "target = \"ingreso_neto_comprobado\"\n",
    "to_drop = ['researchable_id', 'estimate', 'declarativa',\"ingreso_neto_comprobado\"]\n",
    "to_drop = to_drop + [\"ingreso_neto_declarado\"]\n",
    "columnas = [col for col in df.columns if col not in to_drop]"
   ]
  },
  {
   "cell_type": "markdown",
   "id": "f0a5b8cb",
   "metadata": {},
   "source": [
    "## Ligthgbm"
   ]
  },
  {
   "cell_type": "code",
   "execution_count": 15,
   "id": "6c8a3cc5",
   "metadata": {},
   "outputs": [
    {
     "name": "stdout",
     "output_type": "stream",
     "text": [
      "Training until validation scores don't improve for 20 rounds\n",
      "Early stopping, best iteration is:\n",
      "[323]\tvalid_0's l2: 1.27886e+14\n",
      "Training until validation scores don't improve for 20 rounds\n",
      "Early stopping, best iteration is:\n",
      "[390]\tvalid_0's l2: 1.27886e+14\n",
      "Training until validation scores don't improve for 20 rounds\n",
      "Early stopping, best iteration is:\n",
      "[28]\tvalid_0's l2: 1.27886e+14\n",
      "Training until validation scores don't improve for 20 rounds\n",
      "Early stopping, best iteration is:\n",
      "[181]\tvalid_0's l2: 1.27883e+14\n",
      "Training until validation scores don't improve for 20 rounds\n",
      "Did not meet early stopping. Best iteration is:\n",
      "[500]\tvalid_0's l2: 1.27889e+14\n",
      "Training until validation scores don't improve for 20 rounds\n",
      "Early stopping, best iteration is:\n",
      "[71]\tvalid_0's l2: 1.27888e+14\n",
      "Training until validation scores don't improve for 20 rounds\n",
      "Did not meet early stopping. Best iteration is:\n",
      "[500]\tvalid_0's l2: 1.27888e+14\n",
      "Training until validation scores don't improve for 20 rounds\n",
      "Early stopping, best iteration is:\n",
      "[73]\tvalid_0's l2: 1.27886e+14\n",
      "Training until validation scores don't improve for 20 rounds\n",
      "Early stopping, best iteration is:\n",
      "[73]\tvalid_0's l2: 1.27885e+14\n",
      "Training until validation scores don't improve for 20 rounds\n",
      "Early stopping, best iteration is:\n",
      "[17]\tvalid_0's l2: 1.27877e+14\n",
      "Training until validation scores don't improve for 20 rounds\n",
      "Early stopping, best iteration is:\n",
      "[19]\tvalid_0's l2: 1.27885e+14\n",
      "Training until validation scores don't improve for 20 rounds\n",
      "Early stopping, best iteration is:\n",
      "[173]\tvalid_0's l2: 1.27884e+14\n",
      "Training until validation scores don't improve for 20 rounds\n",
      "Early stopping, best iteration is:\n",
      "[258]\tvalid_0's l2: 1.27887e+14\n",
      "Training until validation scores don't improve for 20 rounds\n",
      "Early stopping, best iteration is:\n",
      "[164]\tvalid_0's l2: 1.27881e+14\n",
      "Training until validation scores don't improve for 20 rounds\n",
      "Early stopping, best iteration is:\n",
      "[24]\tvalid_0's l2: 1.27881e+14\n",
      "Training until validation scores don't improve for 20 rounds\n",
      "Early stopping, best iteration is:\n",
      "[24]\tvalid_0's l2: 1.27886e+14\n",
      "Training until validation scores don't improve for 20 rounds\n",
      "Early stopping, best iteration is:\n",
      "[34]\tvalid_0's l2: 1.27888e+14\n",
      "Training until validation scores don't improve for 20 rounds\n",
      "Early stopping, best iteration is:\n",
      "[56]\tvalid_0's l2: 1.27886e+14\n",
      "Training until validation scores don't improve for 20 rounds\n",
      "Early stopping, best iteration is:\n",
      "[30]\tvalid_0's l2: 1.27884e+14\n",
      "Training until validation scores don't improve for 20 rounds\n",
      "Early stopping, best iteration is:\n",
      "[21]\tvalid_0's l2: 1.2788e+14\n",
      "Training until validation scores don't improve for 20 rounds\n",
      "Early stopping, best iteration is:\n",
      "[20]\tvalid_0's l2: 1.27884e+14\n",
      "Training until validation scores don't improve for 20 rounds\n",
      "Early stopping, best iteration is:\n",
      "[31]\tvalid_0's l2: 1.2788e+14\n",
      "Training until validation scores don't improve for 20 rounds\n",
      "Early stopping, best iteration is:\n",
      "[30]\tvalid_0's l2: 1.2788e+14\n",
      "Training until validation scores don't improve for 20 rounds\n",
      "Early stopping, best iteration is:\n",
      "[31]\tvalid_0's l2: 1.2788e+14\n",
      "Training until validation scores don't improve for 20 rounds\n",
      "Early stopping, best iteration is:\n",
      "[29]\tvalid_0's l2: 1.2788e+14\n",
      "Number of finished trials:  25\n",
      "Best trial:\n",
      "  Value: 11308288.867735004\n",
      "  Params: \n",
      "    n_estimators: 500\n",
      "    reg_alpha: 1.3884491497145526\n",
      "    reg_lambda: 4.786635902973487\n",
      "    colsample_bytree: 0.4\n",
      "    subsample: 0.5\n",
      "    learning_rate: 0.15\n",
      "    max_depth: 3\n",
      "    num_leaves: 253\n",
      "    min_child_samples: 206\n",
      "    min_data_per_groups: 41\n",
      "[LightGBM] [Warning] Unknown parameter: min_data_per_groups\n",
      "Training until validation scores don't improve for 50 rounds\n",
      "Early stopping, best iteration is:\n",
      "[18]\tvalid_0's l2: 1.27881e+14\n",
      "\u001b[34mmape train: 0.299 || mape val: 0.289\u001b[0m\n",
      "\u001b[32mingreso_declarado.pkl saved in s3://data-science-kavak-dev/projects/cerberus/v2/dev/income/models_test/\u001b[0m\n"
     ]
    }
   ],
   "source": [
    "lgbm = LigthTrainer()\n",
    "lgbm.X_train = train[columnas]\n",
    "lgbm.y_train = train[target]\n",
    "lgbm.X_test = test_df[columnas]\n",
    "lgbm.y_test = test_df[target]\n",
    "\n",
    "lgbm.optimize()\n",
    "lgbm.evaluate()\n",
    "lgbm.save_model(\"preds_declarado\")"
   ]
  },
  {
   "cell_type": "code",
   "execution_count": 16,
   "id": "fdf2fee0",
   "metadata": {},
   "outputs": [
    {
     "name": "stdout",
     "output_type": "stream",
     "text": [
      "El porcentaje de clientes con mas de 50% de diferencia cómo flag es de 4.90% serian 182 clientes sobre 3714. En un Core de 18mil clientes será de 882\n"
     ]
    }
   ],
   "source": [
    "test_df[\"pred\"] = pd.Series(lgbm.preds, index=lgbm.X_test.index)\n",
    "test_df[\"%_diferencia\"] = abs((test_df[\"net_income_verified\"] - test_df[\"pred\"])/test_df[\"pred\"])\n",
    "cantidad = len(test_df[test_df[\"%_diferencia\"] > 0.5])\n",
    "total= len(test_df)\n",
    "porcentaje = cantidad/total\n",
    "print(f\"El porcentaje de clientes con mas de 50% de diferencia cómo flag es de {porcentaje*100:.2f}% serian {cantidad} clientes sobre {total}. En un Core de 18mil clientes será de {int(porcentaje*18000)}\")"
   ]
  },
  {
   "cell_type": "code",
   "execution_count": 17,
   "id": "4c8924d3",
   "metadata": {},
   "outputs": [
    {
     "data": {
      "text/plain": [
       "<AxesSubplot:xlabel='pred', ylabel='residuos'>"
      ]
     },
     "execution_count": 17,
     "metadata": {},
     "output_type": "execute_result"
    },
    {
     "data": {
      "image/png": "[encoded data removed]",
      "text/plain": [
       "<Figure size 432x288 with 1 Axes>"
      ]
     },
     "metadata": {
      "needs_background": "light"
     },
     "output_type": "display_data"
    }
   ],
   "source": [
    "test_df[\"residuos\"] = test_df[\"ingreso_neto_comprobado\"] - test_df[\"pred\"]\n",
    "sns.scatterplot(y=\"residuos\",x=\"pred\", data=test_df)"
   ]
  },
  {
   "cell_type": "code",
   "execution_count": 18,
   "id": "3316aa5f",
   "metadata": {},
   "outputs": [],
   "source": [
    "from income.utils import normalize_core\n",
    "core = pd.read_csv(\"data/aprobados.csv\", index_col=0)\n",
    "\n",
    "core = normalize_core(core)"
   ]
  },
  {
   "cell_type": "code",
   "execution_count": 19,
   "id": "432d6627",
   "metadata": {},
   "outputs": [],
   "source": [
    "\n",
    "cols = [col for col in core if col not in test_df.columns]\n",
    "eval_df = pd.merge(core[cols],test_df,how=\"inner\",left_index=True,right_index=True)\n",
    "\n",
    "eval_df[\"real\"] = eval_df[\"ingreso_neto_comprobado\"]\n",
    "eval_df[\"declarado\"] = eval_df[\"net_income_verified\"]\n",
    "\n",
    "ingresos = [\"real\",\"declarado\",\"pred\"]\n",
    "\n",
    "for ingreso in ingresos:\n",
    "    eval_df[f\"%_flag_{ingreso}\"] = abs(eval_df[\"net_income_verified\"]-eval_df[ingreso])/eval_df[ingreso]\n",
    "    eval_df[f\"%_flag_{ingreso}\"]= np.where((eval_df[f\"%_flag_{ingreso}\"]>=0.5), 1,0)\n",
    "    eval_df[f\"capacidad_{ingreso}\"] = (eval_df[ingreso] - eval_df['descuentos'])/(eval_df[\"Monto_de_la_mensualidad\"])\n",
    "    eval_df[f\"CAP_{ingreso}\"]= np.where((eval_df[f\"capacidad_{ingreso}\"]>=2), 1,0)\n",
    "    eval_df[f\"CAP_{ingreso}\"]= np.where((eval_df[f\"CAP_{ingreso}\"]==0), \"Desaprobado\",\"Aprobado\")"
   ]
  },
  {
   "cell_type": "code",
   "execution_count": 20,
   "id": "bdd1909e",
   "metadata": {},
   "outputs": [],
   "source": [
    "cols = [col for col in eval_df.columns if col not in test_df.columns]\n"
   ]
  },
  {
   "cell_type": "code",
   "execution_count": 21,
   "id": "4b1574c9",
   "metadata": {},
   "outputs": [
    {
     "data": {
      "text/plain": [
       "['perfil',\n",
       " 'BC_Score_',\n",
       " 'Monto_de_la_mensualidad',\n",
       " 'descuentos',\n",
       " 'Dependientes',\n",
       " 'Ingreso_',\n",
       " 'Ing_Disp',\n",
       " 'real',\n",
       " 'declarado',\n",
       " '%_flag_real',\n",
       " 'capacidad_real',\n",
       " 'CAP_real',\n",
       " '%_flag_declarado',\n",
       " 'capacidad_declarado',\n",
       " 'CAP_declarado',\n",
       " '%_flag_pred',\n",
       " 'capacidad_pred',\n",
       " 'CAP_pred']"
      ]
     },
     "execution_count": 21,
     "metadata": {},
     "output_type": "execute_result"
    }
   ],
   "source": [
    "cols"
   ]
  },
  {
   "cell_type": "markdown",
   "id": "7dd2bc28",
   "metadata": {},
   "source": [
    "from pivottablejs import pivot_ui\n",
    "\n",
    "from IPython.display import HTML\n",
    "from pivottablejs import pivot_ui\n",
    "\n",
    "pivot_ui(eval_df[cols])\n",
    "HTML('pivottablejs.html')"
   ]
  },
  {
   "cell_type": "code",
   "execution_count": null,
   "id": "deb0299a",
   "metadata": {},
   "outputs": [],
   "source": [
    "\n"
   ]
  },
  {
   "cell_type": "code",
   "execution_count": null,
   "id": "51ec1873",
   "metadata": {},
   "outputs": [],
   "source": [
    "models = [\"Validado\",\"ingreso_declarado\" ]\n",
    "\n",
    "test = predict_multiple_models(test, models, path_models)\n"
   ]
  },
  {
   "cell_type": "code",
   "execution_count": null,
   "id": "fe7174d3",
   "metadata": {},
   "outputs": [],
   "source": [
    "\n",
    "test = pd.merge(core[cols],test,how=\"inner\",left_index=True,right_index=True)\n",
    "test[\"validated_final_model\"] = test[\"net_income_verified\"]*test[\"Validado\"]\n",
    "test[\"validated_final_model\"] =  test[\"validated_final_model\"].astype(int)"
   ]
  },
  {
   "cell_type": "code",
   "execution_count": null,
   "id": "2ed2f00f",
   "metadata": {},
   "outputs": [],
   "source": [
    "test[\"real\"] = test[\"ingreso_neto_comprobado\"]"
   ]
  },
  {
   "cell_type": "code",
   "execution_count": null,
   "id": "18935fbf",
   "metadata": {},
   "outputs": [],
   "source": [
    "preds = [\"validated_final_model\",\"ingreso_declarado\",\"real\"]\n",
    "for model in preds:\n",
    "    test[f\"%_flag_{model}\"] = abs(test[\"net_income_verified\"]-test[model])/test[model]\n",
    "    test[f\"%_flag_{model}\"]= np.where((test[f\"%_flag_{model}\"]>=0.5), 1,0)\n",
    "    test[f\"capacidad_{model}\"] = (test[model] - test['descuentos'])/(test[\"Monto_de_la_mensualidad\"])\n",
    "    test[f\"CAP_{model}\"]= np.where((test[f\"capacidad_{model}\"]>=2), 1,0)\n",
    "    test[f\"CAP_{model}\"]= np.where((test[f\"CAP_{model}\"]==0), \"Desaprobado\",\"Aprobado\")\n"
   ]
  },
  {
   "cell_type": "code",
   "execution_count": null,
   "id": "1b241931",
   "metadata": {},
   "outputs": [],
   "source": []
  },
  {
   "cell_type": "code",
   "execution_count": null,
   "id": "6e2ea842",
   "metadata": {},
   "outputs": [],
   "source": []
  },
  {
   "cell_type": "code",
   "execution_count": null,
   "id": "b2ec88fc",
   "metadata": {},
   "outputs": [],
   "source": [
    "#Cuantos son perfil_X\n",
    "#filtrar a los perfilx\n",
    "    #cuantos CAP_ingreso_declarado rechazado\n",
    "    #CAP_real rechazo y aprobado"
   ]
  },
  {
   "cell_type": "code",
   "execution_count": null,
   "id": "365aa59b",
   "metadata": {},
   "outputs": [],
   "source": [
    "(test[\"rule\"] == \"Perfil_X\").sum()"
   ]
  },
  {
   "cell_type": "code",
   "execution_count": null,
   "id": "a90674a1",
   "metadata": {},
   "outputs": [],
   "source": [
    "len(test.loc[(test[\"rule\"] == \"Perfil_X\")])/len(test)"
   ]
  },
  {
   "cell_type": "code",
   "execution_count": null,
   "id": "7c2a6b65",
   "metadata": {},
   "outputs": [],
   "source": [
    "len(test)"
   ]
  },
  {
   "cell_type": "code",
   "execution_count": null,
   "id": "fe1bf5af",
   "metadata": {},
   "outputs": [],
   "source": [
    "perfil_df = test.loc[(test[\"rule\"]== \"Perfil_X\")]"
   ]
  },
  {
   "cell_type": "code",
   "execution_count": null,
   "id": "c514b56a",
   "metadata": {},
   "outputs": [],
   "source": [
    "perfil_df.CAP_ingreso_declarado.value_counts(normalize=True)"
   ]
  },
  {
   "cell_type": "code",
   "execution_count": null,
   "id": "8c5bf5d3",
   "metadata": {},
   "outputs": [],
   "source": [
    "perfil_df.CAP_real.value_counts(normalize=True)"
   ]
  },
  {
   "cell_type": "code",
   "execution_count": null,
   "id": "7749baba",
   "metadata": {},
   "outputs": [],
   "source": [
    "pd.crosstab(perfil_df.CAP_ingreso_declarado,perfil_df.CAP_real)"
   ]
  },
  {
   "cell_type": "code",
   "execution_count": null,
   "id": "69677f74",
   "metadata": {},
   "outputs": [],
   "source": [
    "len(perfil_df.loc[(perfil_df.CAP_real == \"Aprobado\") & (perfil_df.CAP_ingreso_declarado == \"Aprobado\")])"
   ]
  },
  {
   "cell_type": "code",
   "execution_count": null,
   "id": "df47a889",
   "metadata": {},
   "outputs": [],
   "source": []
  },
  {
   "cell_type": "code",
   "execution_count": null,
   "id": "da41f320",
   "metadata": {},
   "outputs": [],
   "source": [
    "#grafico de residuos\n",
    "#perfiles x cantidad"
   ]
  },
  {
   "cell_type": "code",
   "execution_count": null,
   "id": "b8dd0472",
   "metadata": {},
   "outputs": [],
   "source": [
    "core = pd.read_csv(\"s3://data-science-kavak-dev/projects/cerberus/v2/dev/income/data/aprobados.csv\")\n",
    "cols = [col for col in core if col not in test_df.columns]\n",
    "core = pd.merge(core[cols],test_df,how=\"inner\",left_index=True,right_index=True)"
   ]
  },
  {
   "cell_type": "code",
   "execution_count": null,
   "id": "cb71babb",
   "metadata": {},
   "outputs": [],
   "source": [
    "#calculo capacidad de pago con declarada\n",
    "#calculo capacidad de pago con real\n",
    "#calculo capacidad de pago con pred\n",
    "\n",
    "#cuento aprobado con declarada y rechazada con real y perfil x\n",
    "#cuento aprobado con declarada y rechazada con pred y perfil x% (porcentaje de perfil x que voy ar echazar) "
   ]
  },
  {
   "cell_type": "code",
   "execution_count": null,
   "id": "fc3c73b9",
   "metadata": {},
   "outputs": [],
   "source": []
  },
  {
   "cell_type": "code",
   "execution_count": null,
   "id": "df6d913d",
   "metadata": {},
   "outputs": [],
   "source": [
    "core"
   ]
  },
  {
   "cell_type": "code",
   "execution_count": null,
   "id": "da4bc8c0",
   "metadata": {},
   "outputs": [],
   "source": []
  },
  {
   "cell_type": "code",
   "execution_count": null,
   "id": "a4eab3c8",
   "metadata": {},
   "outputs": [],
   "source": [
    "#no llega al 1%"
   ]
  },
  {
   "cell_type": "markdown",
   "id": "012b6411",
   "metadata": {},
   "source": [
    "* Hacer este calculo\n",
    "* scatterplot Residuos vs Predicho\n",
    "* "
   ]
  },
  {
   "cell_type": "code",
   "execution_count": null,
   "id": "007e48ff",
   "metadata": {},
   "outputs": [],
   "source": [
    "# cuantos son perfiles X"
   ]
  },
  {
   "cell_type": "code",
   "execution_count": null,
   "id": "278d5975",
   "metadata": {},
   "outputs": [],
   "source": []
  },
  {
   "cell_type": "code",
   "execution_count": null,
   "id": "f1da8bba",
   "metadata": {},
   "outputs": [],
   "source": [
    "5000 test - mape 0.152 - % FLGS (40% --->50% de distancia con respecto a declarado y predicho)"
   ]
  },
  {
   "cell_type": "code",
   "execution_count": null,
   "id": "dad8d160",
   "metadata": {},
   "outputs": [],
   "source": [
    "0.4*27090 FLAGS"
   ]
  },
  {
   "cell_type": "code",
   "execution_count": null,
   "id": "8a49c1f7",
   "metadata": {},
   "outputs": [],
   "source": [
    "Perfil X 40% y listo"
   ]
  },
  {
   "cell_type": "code",
   "execution_count": null,
   "id": "8f45b247",
   "metadata": {},
   "outputs": [],
   "source": []
  },
  {
   "cell_type": "markdown",
   "id": "b93f9eff",
   "metadata": {},
   "source": [
    "## Modelo % validado"
   ]
  },
  {
   "cell_type": "code",
   "execution_count": 29,
   "id": "fb4e4f0d",
   "metadata": {},
   "outputs": [
    {
     "data": {
      "text/plain": [
       "'target'"
      ]
     },
     "execution_count": 29,
     "metadata": {},
     "output_type": "execute_result"
    }
   ],
   "source": [
    "lgbm.target"
   ]
  },
  {
   "cell_type": "code",
   "execution_count": 33,
   "id": "dbc96457",
   "metadata": {},
   "outputs": [
    {
     "name": "stdout",
     "output_type": "stream",
     "text": [
      "Training until validation scores don't improve for 20 rounds\n",
      "Did not meet early stopping. Best iteration is:\n",
      "[500]\tvalid_0's l2: 12790.2\n",
      "Training until validation scores don't improve for 20 rounds\n",
      "Early stopping, best iteration is:\n",
      "[322]\tvalid_0's l2: 12790.1\n",
      "Training until validation scores don't improve for 20 rounds\n",
      "Early stopping, best iteration is:\n",
      "[184]\tvalid_0's l2: 12790.2\n",
      "Training until validation scores don't improve for 20 rounds\n",
      "Early stopping, best iteration is:\n",
      "[102]\tvalid_0's l2: 12790.1\n",
      "Training until validation scores don't improve for 20 rounds\n",
      "Did not meet early stopping. Best iteration is:\n",
      "[498]\tvalid_0's l2: 12790.1\n",
      "Training until validation scores don't improve for 20 rounds\n",
      "Early stopping, best iteration is:\n",
      "[64]\tvalid_0's l2: 12790.1\n",
      "Training until validation scores don't improve for 20 rounds\n",
      "Early stopping, best iteration is:\n",
      "[222]\tvalid_0's l2: 12790.2\n",
      "Training until validation scores don't improve for 20 rounds\n",
      "Did not meet early stopping. Best iteration is:\n",
      "[500]\tvalid_0's l2: 12790.2\n",
      "Training until validation scores don't improve for 20 rounds\n",
      "Early stopping, best iteration is:\n",
      "[299]\tvalid_0's l2: 12790.1\n",
      "Training until validation scores don't improve for 20 rounds\n",
      "Early stopping, best iteration is:\n",
      "[98]\tvalid_0's l2: 12790.1\n",
      "Training until validation scores don't improve for 20 rounds\n",
      "Early stopping, best iteration is:\n",
      "[53]\tvalid_0's l2: 12790.2\n",
      "Training until validation scores don't improve for 20 rounds\n",
      "Early stopping, best iteration is:\n",
      "[35]\tvalid_0's l2: 12790.1\n",
      "Training until validation scores don't improve for 20 rounds\n",
      "Early stopping, best iteration is:\n",
      "[60]\tvalid_0's l2: 12790.1\n",
      "Training until validation scores don't improve for 20 rounds\n",
      "Early stopping, best iteration is:\n",
      "[77]\tvalid_0's l2: 12790.1\n",
      "Training until validation scores don't improve for 20 rounds\n",
      "Early stopping, best iteration is:\n",
      "[152]\tvalid_0's l2: 12790.1\n",
      "Training until validation scores don't improve for 20 rounds\n",
      "Early stopping, best iteration is:\n",
      "[75]\tvalid_0's l2: 12790.2\n",
      "Training until validation scores don't improve for 20 rounds\n",
      "Early stopping, best iteration is:\n",
      "[126]\tvalid_0's l2: 12790.2\n",
      "Training until validation scores don't improve for 20 rounds\n",
      "Early stopping, best iteration is:\n",
      "[87]\tvalid_0's l2: 12790.2\n",
      "Training until validation scores don't improve for 20 rounds\n",
      "Early stopping, best iteration is:\n",
      "[52]\tvalid_0's l2: 12790.1\n",
      "Training until validation scores don't improve for 20 rounds\n",
      "Early stopping, best iteration is:\n",
      "[229]\tvalid_0's l2: 12790.2\n",
      "Training until validation scores don't improve for 20 rounds\n",
      "Early stopping, best iteration is:\n",
      "[147]\tvalid_0's l2: 12790.1\n",
      "Training until validation scores don't improve for 20 rounds\n",
      "Early stopping, best iteration is:\n",
      "[58]\tvalid_0's l2: 12790.1\n",
      "Training until validation scores don't improve for 20 rounds\n",
      "Early stopping, best iteration is:\n",
      "[95]\tvalid_0's l2: 12790.1\n",
      "Training until validation scores don't improve for 20 rounds\n",
      "Early stopping, best iteration is:\n",
      "[136]\tvalid_0's l2: 12790.1\n",
      "Training until validation scores don't improve for 20 rounds\n",
      "Did not meet early stopping. Best iteration is:\n",
      "[500]\tvalid_0's l2: 12790.1\n",
      "Number of finished trials:  25\n",
      "Best trial:\n",
      "  Value: 113.09329238204884\n",
      "  Params: \n",
      "    n_estimators: 500\n",
      "    reg_alpha: 0.042353573918830045\n",
      "    reg_lambda: 0.49361627541421427\n",
      "    colsample_bytree: 0.7\n",
      "    subsample: 0.4\n",
      "    learning_rate: 0.1\n",
      "    max_depth: 4\n",
      "    num_leaves: 42\n",
      "    min_child_samples: 95\n",
      "    min_data_per_groups: 81\n",
      "[LightGBM] [Warning] Unknown parameter: min_data_per_groups\n",
      "Training until validation scores don't improve for 50 rounds\n",
      "Early stopping, best iteration is:\n",
      "[145]\tvalid_0's l2: 12790.1\n",
      "\u001b[34mmape train: 0.142 || mape val: 0.156\u001b[0m\n",
      "\u001b[32m%_validado.pkl saved in s3://data-science-kavak-dev/projects/cerberus/v2/dev/income/models_test/\u001b[0m\n"
     ]
    }
   ],
   "source": [
    "validated_train = train.copy()\n",
    "validated_train[\"target\"] = (validated_train[\"ingreso_neto_comprobado\"]/validated_train[\"net_income_verified\"])\n",
    "del validated_train[\"ingreso_neto_comprobado\"]\n",
    "\n",
    "validated_test = test_df.copy()\n",
    "validated_test[\"target\"] = (validated_test[\"ingreso_neto_comprobado\"]/validated_test[\"net_income_verified\"])\n",
    "del validated_test[\"ingreso_neto_comprobado\"]\n",
    "\n",
    "\n",
    "lgbm = LigthTrainer()\n",
    "lgbm.fit(validated_train,model_name=\"validado\", to_drop=['researchable_id', 'estimate', 'declarativa'], target=\"target\")\n",
    "lgbm.X_train = validated_train[lgbm.columns]\n",
    "lgbm.y_train = validated_train[lgbm.target]\n",
    "lgbm.X_test = validated_test[lgbm.columns]\n",
    "lgbm.y_test = validated_test[lgbm.target]\n",
    "\n",
    "lgbm.optimize()\n",
    "lgbm.evaluate()\n",
    "lgbm.save_model(\"%_validado\")"
   ]
  },
  {
   "cell_type": "code",
   "execution_count": null,
   "id": "66561921",
   "metadata": {},
   "outputs": [],
   "source": [
    "lgbm = LigthTrainer()\n",
    "lgbm.X_train = train[columnas]\n",
    "lgbm.y_train = train[target]\n",
    "lgbm.X_test = test_df[columnas]\n",
    "lgbm.y_test = test_df[target]\n",
    "\n",
    "lgbm.optimize()\n",
    "lgbm.evaluate()\n",
    "lgbm.save_model(\"preds_declarado\")"
   ]
  },
  {
   "cell_type": "markdown",
   "id": "d0af2d2d",
   "metadata": {},
   "source": [
    "\n"
   ]
  }
 ],
 "metadata": {
  "kernelspec": {
   "display_name": "conda_python3",
   "language": "python",
   "name": "conda_python3"
  },
  "language_info": {
   "codemirror_mode": {
    "name": "ipython",
    "version": 3
   },
   "file_extension": ".py",
   "mimetype": "text/x-python",
   "name": "python",
   "nbconvert_exporter": "python",
   "pygments_lexer": "ipython3",
   "version": "3.8.12"
  }
 },
 "nbformat": 4,
 "nbformat_minor": 5
}
