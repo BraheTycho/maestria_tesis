{
 "cells": [
  {
   "cell_type": "code",
   "execution_count": null,
   "id": "f91ecb98",
   "metadata": {},
   "outputs": [],
   "source": [
    "#armar optimizacion con crossvalidation\n",
    "#ver como da\n",
    "#hacer ensamble de varios modelos"
   ]
  }
 ],
 "metadata": {
  "kernelspec": {
   "display_name": "conda_python3",
   "language": "python",
   "name": "conda_python3"
  },
  "language_info": {
   "codemirror_mode": {
    "name": "ipython",
    "version": 3
   },
   "file_extension": ".py",
   "mimetype": "text/x-python",
   "name": "python",
   "nbconvert_exporter": "python",
   "pygments_lexer": "ipython3",
   "version": "3.8.12"
  }
 },
 "nbformat": 4,
 "nbformat_minor": 5
}
