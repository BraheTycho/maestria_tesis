{
 "cells": [
  {
   "cell_type": "code",
   "execution_count": 1,
   "id": "184af4c7",
   "metadata": {},
   "outputs": [],
   "source": [
    "#!pip install lightgbm\n",
    "#!pip install optuna\n",
    "#!pip memoized_property"
   ]
  },
  {
   "cell_type": "code",
   "execution_count": 2,
   "id": "a7d5a235",
   "metadata": {},
   "outputs": [],
   "source": [
    "%load_ext autoreload\n",
    "%autoreload 2"
   ]
  },
  {
   "cell_type": "code",
   "execution_count": 3,
   "id": "64ccc87f",
   "metadata": {},
   "outputs": [],
   "source": [
    "from income.ml_trainer import LigthTrainer\n",
    "from s3_utils import read_pd_from_parquet, write_pickle, read_pickle"
   ]
  },
  {
   "cell_type": "code",
   "execution_count": 4,
   "id": "f1fdd10c",
   "metadata": {},
   "outputs": [
    {
     "name": "stdout",
     "output_type": "stream",
     "text": [
      "Running script locally\n"
     ]
    }
   ],
   "source": [
    "import pandas as pd\n",
    "import gc\n",
    "from sklearn.model_selection import train_test_split\n",
    "import optuna\n",
    "from sklearn.metrics import mean_absolute_percentage_error as MAPE\n",
    "from sklearn.metrics import mean_squared_error \n",
    "\n",
    "import lightgbm as lgbm\n",
    "import joblib\n",
    "import warnings\n",
    "warnings.filterwarnings('ignore')\n",
    "\n",
    "import numpy as np\n",
    "import pandas as pd\n",
    "import matplotlib.pyplot as plt\n",
    "import seaborn as sns\n",
    "import optuna \n",
    "from optuna.visualization import plot_optimization_history, plot_param_importances\n",
    "from optuna import Trial, visualization\n",
    "from optuna.samplers import TPESampler\n",
    "\n",
    "from sklearn.metrics import mean_squared_error\n",
    "from sklearn.model_selection import train_test_split\n",
    "from statistics import mean\n",
    "from s3_utils.s3_utils import write_parquet_from_pd, read_pd_from_parquet, start_logger,write_pickle,read_pickle\n",
    "\n",
    "from s3_utils import read_pd_from_csv\n",
    "from income.data_validation import quality_check,missing_threshold,df_optimized\n",
    "pd.set_option('display.max_rows', 500)\n",
    "\n",
    "\n",
    "import sys\n",
    "\n",
    "    path = \"glue_scripts/output\""
   ]
  },
  {
   "cell_type": "code",
   "execution_count": 7,
   "id": "ad96a428",
   "metadata": {},
   "outputs": [
    {
     "data": {
      "text/plain": [
       "(27090, 50)"
      ]
     },
     "execution_count": 7,
     "metadata": {},
     "output_type": "execute_result"
    }
   ],
   "source": [
    "df = pd.concat([aprobados, prospectos], ignore_index=True, sort=False)\n",
    "df.shape"
   ]
  },
  {
   "cell_type": "code",
   "execution_count": null,
   "id": "fe076f33",
   "metadata": {},
   "outputs": [],
   "source": []
  },
  {
   "cell_type": "code",
   "execution_count": 8,
   "id": "8b5613af",
   "metadata": {},
   "outputs": [],
   "source": [
    "#del aprobados\n",
    "del prospectos\n",
    "\n",
    "df = df.drop_duplicates(subset=\"researchable_id\", keep=\"last\")\n",
    "df = df.query(\"ingreso_neto_comprobado > 8000 & ingreso_neto_comprobado < 300000\")\n",
    "df = df.query(\"net_income_verified > 8000 & net_income_verified < 600000\")\n",
    "df = df[df[\"net_income_verified\"]>=df[\"ingreso_neto_comprobado\"]]"
   ]
  },
  {
   "cell_type": "code",
   "execution_count": 9,
   "id": "1cec8d67",
   "metadata": {},
   "outputs": [
    {
     "name": "stdout",
     "output_type": "stream",
     "text": [
      "optimized size by 51.0 % | 0.003732771 GB\n"
     ]
    }
   ],
   "source": [
    "df = df_optimized(df)"
   ]
  },
  {
   "cell_type": "code",
   "execution_count": 10,
   "id": "97369ae4",
   "metadata": {},
   "outputs": [],
   "source": [
    "#quality_check(df)"
   ]
  },
  {
   "cell_type": "code",
   "execution_count": 11,
   "id": "682d667f",
   "metadata": {},
   "outputs": [],
   "source": [
    "test_df = aprobados.query(\"ingreso_neto_comprobado > 8000 & ingreso_neto_comprobado < 200000\").sample(3714)\n",
    "train = df.loc[~df.researchable_id.isin(test_df.researchable_id),]\n",
    "train.to_csv(\"data/train.csv\")\n",
    "test_df.to_csv(\"data/test.csv\")"
   ]
  },
  {
   "cell_type": "code",
   "execution_count": 12,
   "id": "6644c44e",
   "metadata": {},
   "outputs": [],
   "source": [
    "del df"
   ]
  },
  {
   "cell_type": "markdown",
   "id": "45b3f5ba",
   "metadata": {},
   "source": [
    "for df in [test_df,train,aprobados]:\n",
    "    df  = df_optimized(df)\n"
   ]
  },
  {
   "cell_type": "code",
   "execution_count": 13,
   "id": "9cc048bf",
   "metadata": {},
   "outputs": [],
   "source": [
    "target = \"ingreso_neto_comprobado\"\n",
    "to_drop = ['researchable_id', 'estimate', 'declarativa',\"ingreso_neto_comprobado\"]\n",
    "to_drop = to_drop + [\"ingreso_neto_declarado\"]\n",
    "columnas = [col for col in test_df.columns if col not in to_drop]"
   ]
  },
  {
   "cell_type": "markdown",
   "id": "224261c1",
   "metadata": {},
   "source": [
    "## Ligthgbm"
   ]
  },
  {
   "cell_type": "code",
   "execution_count": 14,
   "id": "7fd9d937",
   "metadata": {},
   "outputs": [
    {
     "name": "stdout",
     "output_type": "stream",
     "text": [
      "Training until validation scores don't improve for 20 rounds\n",
      "Did not meet early stopping. Best iteration is:\n",
      "[500]\tvalid_0's l2: 1.73711e+08\n",
      "Training until validation scores don't improve for 20 rounds\n",
      "Early stopping, best iteration is:\n",
      "[334]\tvalid_0's l2: 1.7549e+08\n",
      "Training until validation scores don't improve for 20 rounds\n",
      "Early stopping, best iteration is:\n",
      "[316]\tvalid_0's l2: 1.7242e+08\n",
      "Training until validation scores don't improve for 20 rounds\n",
      "Did not meet early stopping. Best iteration is:\n",
      "[500]\tvalid_0's l2: 1.78111e+08\n",
      "Training until validation scores don't improve for 20 rounds\n",
      "Early stopping, best iteration is:\n",
      "[287]\tvalid_0's l2: 1.75595e+08\n",
      "Training until validation scores don't improve for 20 rounds\n",
      "Did not meet early stopping. Best iteration is:\n",
      "[500]\tvalid_0's l2: 1.7535e+08\n",
      "Training until validation scores don't improve for 20 rounds\n",
      "Did not meet early stopping. Best iteration is:\n",
      "[498]\tvalid_0's l2: 1.72452e+08\n",
      "Training until validation scores don't improve for 20 rounds\n",
      "Early stopping, best iteration is:\n",
      "[63]\tvalid_0's l2: 1.7646e+08\n",
      "Training until validation scores don't improve for 20 rounds\n",
      "Early stopping, best iteration is:\n",
      "[89]\tvalid_0's l2: 1.75009e+08\n",
      "Training until validation scores don't improve for 20 rounds\n",
      "Early stopping, best iteration is:\n",
      "[21]\tvalid_0's l2: 1.74009e+08\n",
      "Training until validation scores don't improve for 20 rounds\n",
      "Early stopping, best iteration is:\n",
      "[416]\tvalid_0's l2: 1.74182e+08\n",
      "Training until validation scores don't improve for 20 rounds\n",
      "Early stopping, best iteration is:\n",
      "[27]\tvalid_0's l2: 1.73086e+08\n",
      "Training until validation scores don't improve for 20 rounds\n",
      "Did not meet early stopping. Best iteration is:\n",
      "[500]\tvalid_0's l2: 1.73413e+08\n",
      "Training until validation scores don't improve for 20 rounds\n",
      "Did not meet early stopping. Best iteration is:\n",
      "[500]\tvalid_0's l2: 1.73212e+08\n",
      "Training until validation scores don't improve for 20 rounds\n",
      "Early stopping, best iteration is:\n",
      "[24]\tvalid_0's l2: 1.75622e+08\n",
      "Training until validation scores don't improve for 20 rounds\n",
      "Did not meet early stopping. Best iteration is:\n",
      "[500]\tvalid_0's l2: 1.70687e+08\n",
      "Training until validation scores don't improve for 20 rounds\n",
      "Early stopping, best iteration is:\n",
      "[460]\tvalid_0's l2: 1.74119e+08\n",
      "Training until validation scores don't improve for 20 rounds\n",
      "Early stopping, best iteration is:\n",
      "[460]\tvalid_0's l2: 1.71176e+08\n",
      "Training until validation scores don't improve for 20 rounds\n",
      "Early stopping, best iteration is:\n",
      "[399]\tvalid_0's l2: 1.75025e+08\n",
      "Training until validation scores don't improve for 20 rounds\n",
      "Early stopping, best iteration is:\n",
      "[458]\tvalid_0's l2: 1.70962e+08\n",
      "Training until validation scores don't improve for 20 rounds\n",
      "Early stopping, best iteration is:\n",
      "[451]\tvalid_0's l2: 1.75729e+08\n",
      "Training until validation scores don't improve for 20 rounds\n",
      "Early stopping, best iteration is:\n",
      "[460]\tvalid_0's l2: 1.7097e+08\n",
      "Training until validation scores don't improve for 20 rounds\n",
      "Early stopping, best iteration is:\n",
      "[466]\tvalid_0's l2: 1.71136e+08\n",
      "Training until validation scores don't improve for 20 rounds\n",
      "Early stopping, best iteration is:\n",
      "[474]\tvalid_0's l2: 1.73672e+08\n",
      "Training until validation scores don't improve for 20 rounds\n",
      "Early stopping, best iteration is:\n",
      "[37]\tvalid_0's l2: 1.7511e+08\n",
      "Number of finished trials:  25\n",
      "Best trial:\n",
      "  Value: 13064.708996787449\n",
      "  Params: \n",
      "    n_estimators: 500\n",
      "    reg_alpha: 0.005106492804196577\n",
      "    reg_lambda: 0.006157498597229679\n",
      "    colsample_bytree: 0.4\n",
      "    subsample: 0.4\n",
      "    learning_rate: 0.02\n",
      "    max_depth: 9\n",
      "    num_leaves: 977\n",
      "    min_child_samples: 273\n",
      "    min_data_per_groups: 35\n",
      "[LightGBM] [Warning] Unknown parameter: min_data_per_groups\n",
      "Training until validation scores don't improve for 50 rounds\n",
      "Did not meet early stopping. Best iteration is:\n",
      "[492]\tvalid_0's l2: 1.71204e+08\n",
      "\u001B[34mmape train: 0.157 || mape val: 0.155\u001B[0m\n",
      "\u001B[32mpreds_declarado.pkl saved in s3://data-science-kavak-dev/projects/cerberus/v2/dev/income/models_test/\u001B[0m\n"
     ]
    }
   ],
   "source": [
    "lgbm = LigthTrainer()\n",
    "lgbm.X_train = train[columnas]\n",
    "lgbm.y_train = train[target].clip(0,200000)\n",
    "lgbm.X_test = test_df[columnas]\n",
    "lgbm.y_test = test_df[target]\n",
    "\n",
    "lgbm.optimize()\n",
    "lgbm.evaluate()\n",
    "lgbm.save_model(\"preds_declarado\")"
   ]
  },
  {
   "cell_type": "markdown",
   "id": "6e25794d",
   "metadata": {},
   "source": [
    "## Modelo % validado"
   ]
  },
  {
   "cell_type": "code",
   "execution_count": 15,
   "id": "ee9629f6",
   "metadata": {},
   "outputs": [
    {
     "name": "stdout",
     "output_type": "stream",
     "text": [
      "Training until validation scores don't improve for 20 rounds\n",
      "Early stopping, best iteration is:\n",
      "[30]\tvalid_0's l2: 426.675\n",
      "Training until validation scores don't improve for 20 rounds\n",
      "Early stopping, best iteration is:\n",
      "[35]\tvalid_0's l2: 426.683\n",
      "Training until validation scores don't improve for 20 rounds\n",
      "Early stopping, best iteration is:\n",
      "[154]\tvalid_0's l2: 426.678\n",
      "Training until validation scores don't improve for 20 rounds\n",
      "Early stopping, best iteration is:\n",
      "[48]\tvalid_0's l2: 426.689\n",
      "Training until validation scores don't improve for 20 rounds\n",
      "Early stopping, best iteration is:\n",
      "[37]\tvalid_0's l2: 426.681\n",
      "Training until validation scores don't improve for 20 rounds\n",
      "Early stopping, best iteration is:\n",
      "[202]\tvalid_0's l2: 426.679\n",
      "Training until validation scores don't improve for 20 rounds\n",
      "Early stopping, best iteration is:\n",
      "[28]\tvalid_0's l2: 426.669\n",
      "Training until validation scores don't improve for 20 rounds\n",
      "Early stopping, best iteration is:\n",
      "[50]\tvalid_0's l2: 426.691\n",
      "Training until validation scores don't improve for 20 rounds\n",
      "Early stopping, best iteration is:\n",
      "[56]\tvalid_0's l2: 426.693\n",
      "Training until validation scores don't improve for 20 rounds\n",
      "Early stopping, best iteration is:\n",
      "[14]\tvalid_0's l2: 426.687\n",
      "Training until validation scores don't improve for 20 rounds\n",
      "Early stopping, best iteration is:\n",
      "[333]\tvalid_0's l2: 426.672\n",
      "Training until validation scores don't improve for 20 rounds\n",
      "Early stopping, best iteration is:\n",
      "[303]\tvalid_0's l2: 426.672\n",
      "Training until validation scores don't improve for 20 rounds\n",
      "Early stopping, best iteration is:\n",
      "[20]\tvalid_0's l2: 426.673\n",
      "Training until validation scores don't improve for 20 rounds\n",
      "Early stopping, best iteration is:\n",
      "[393]\tvalid_0's l2: 426.67\n",
      "Training until validation scores don't improve for 20 rounds\n",
      "Early stopping, best iteration is:\n",
      "[28]\tvalid_0's l2: 426.677\n",
      "Training until validation scores don't improve for 20 rounds\n",
      "Early stopping, best iteration is:\n",
      "[119]\tvalid_0's l2: 426.678\n",
      "Training until validation scores don't improve for 20 rounds\n",
      "Early stopping, best iteration is:\n",
      "[76]\tvalid_0's l2: 426.671\n",
      "Training until validation scores don't improve for 20 rounds\n",
      "Early stopping, best iteration is:\n",
      "[174]\tvalid_0's l2: 426.671\n",
      "Training until validation scores don't improve for 20 rounds\n",
      "Early stopping, best iteration is:\n",
      "[11]\tvalid_0's l2: 426.674\n",
      "Training until validation scores don't improve for 20 rounds\n",
      "Early stopping, best iteration is:\n",
      "[146]\tvalid_0's l2: 426.677\n",
      "Training until validation scores don't improve for 20 rounds\n",
      "Early stopping, best iteration is:\n",
      "[8]\tvalid_0's l2: 426.676\n",
      "Training until validation scores don't improve for 20 rounds\n",
      "Early stopping, best iteration is:\n",
      "[156]\tvalid_0's l2: 426.671\n",
      "Training until validation scores don't improve for 20 rounds\n",
      "Early stopping, best iteration is:\n",
      "[178]\tvalid_0's l2: 426.671\n",
      "Training until validation scores don't improve for 20 rounds\n",
      "Early stopping, best iteration is:\n",
      "[118]\tvalid_0's l2: 426.673\n",
      "Training until validation scores don't improve for 20 rounds\n",
      "Early stopping, best iteration is:\n",
      "[54]\tvalid_0's l2: 426.679\n",
      "Number of finished trials:  25\n",
      "Best trial:\n",
      "  Value: 20.65596264256276\n",
      "  Params: \n",
      "    n_estimators: 500\n",
      "    reg_alpha: 0.010444652396595222\n",
      "    reg_lambda: 0.022789759639135487\n",
      "    colsample_bytree: 0.7\n",
      "    subsample: 0.7\n",
      "    learning_rate: 0.15\n",
      "    max_depth: 3\n",
      "    num_leaves: 758\n",
      "    min_child_samples: 62\n",
      "    min_data_per_groups: 93\n",
      "[LightGBM] [Warning] Unknown parameter: min_data_per_groups\n",
      "Training until validation scores don't improve for 50 rounds\n",
      "Early stopping, best iteration is:\n",
      "[22]\tvalid_0's l2: 426.672\n",
      "\u001B[34mmape train: 0.153 || mape val: 0.141\u001B[0m\n",
      "\u001B[32m%_validado.pkl saved in s3://data-science-kavak-dev/projects/cerberus/v2/dev/income/models_test/\u001B[0m\n"
     ]
    }
   ],
   "source": [
    "validated_train = train.copy()\n",
    "validated_train[\"target\"] = (validated_train[\"ingreso_neto_comprobado\"]/validated_train[\"net_income_verified\"])\n",
    "del validated_train[\"ingreso_neto_comprobado\"]\n",
    "\n",
    "validated_test = test_df.copy()\n",
    "validated_test[\"target\"] = (validated_test[\"ingreso_neto_comprobado\"]/validated_test[\"net_income_verified\"])\n",
    "del validated_test[\"ingreso_neto_comprobado\"]\n",
    "\n",
    "\n",
    "lgbm = LigthTrainer()\n",
    "lgbm.fit(validated_train,model_name=\"validado\", to_drop=['researchable_id', 'estimate', 'declarativa'], target=\"target\")\n",
    "lgbm.X_train = validated_train[lgbm.columns]\n",
    "lgbm.y_train = validated_train[lgbm.target]\n",
    "lgbm.X_test = validated_test[lgbm.columns]\n",
    "lgbm.y_test = validated_test[lgbm.target]\n",
    "\n",
    "lgbm.optimize()\n",
    "lgbm.evaluate()\n",
    "lgbm.save_model(\"%_validado\")"
   ]
  },
  {
   "cell_type": "code",
   "execution_count": 16,
   "id": "58439ce9",
   "metadata": {},
   "outputs": [
    {
     "name": "stdout",
     "output_type": "stream",
     "text": [
      "Training until validation scores don't improve for 20 rounds\n",
      "Early stopping, best iteration is:\n",
      "[75]\tvalid_0's l2: 5.73038e+08\n",
      "Training until validation scores don't improve for 20 rounds\n",
      "Early stopping, best iteration is:\n",
      "[81]\tvalid_0's l2: 5.74479e+08\n",
      "Training until validation scores don't improve for 20 rounds\n",
      "Early stopping, best iteration is:\n",
      "[147]\tvalid_0's l2: 5.66346e+08\n",
      "Training until validation scores don't improve for 20 rounds\n",
      "Did not meet early stopping. Best iteration is:\n",
      "[500]\tvalid_0's l2: 5.83369e+08\n",
      "Training until validation scores don't improve for 20 rounds\n",
      "Did not meet early stopping. Best iteration is:\n",
      "[500]\tvalid_0's l2: 5.78115e+08\n",
      "Training until validation scores don't improve for 20 rounds\n",
      "Early stopping, best iteration is:\n",
      "[392]\tvalid_0's l2: 5.6835e+08\n",
      "Training until validation scores don't improve for 20 rounds\n",
      "Did not meet early stopping. Best iteration is:\n",
      "[500]\tvalid_0's l2: 5.76974e+08\n",
      "Training until validation scores don't improve for 20 rounds\n",
      "Early stopping, best iteration is:\n",
      "[108]\tvalid_0's l2: 5.69588e+08\n",
      "Training until validation scores don't improve for 20 rounds\n",
      "Did not meet early stopping. Best iteration is:\n",
      "[500]\tvalid_0's l2: 5.78675e+08\n",
      "Training until validation scores don't improve for 20 rounds\n",
      "Did not meet early stopping. Best iteration is:\n",
      "[500]\tvalid_0's l2: 5.77638e+08\n",
      "Training until validation scores don't improve for 20 rounds\n",
      "Did not meet early stopping. Best iteration is:\n",
      "[500]\tvalid_0's l2: 5.86482e+08\n",
      "Training until validation scores don't improve for 20 rounds\n",
      "Early stopping, best iteration is:\n",
      "[65]\tvalid_0's l2: 5.71642e+08\n",
      "Training until validation scores don't improve for 20 rounds\n",
      "Early stopping, best iteration is:\n",
      "[263]\tvalid_0's l2: 5.68909e+08\n",
      "Training until validation scores don't improve for 20 rounds\n",
      "Early stopping, best iteration is:\n",
      "[453]\tvalid_0's l2: 5.67604e+08\n",
      "Training until validation scores don't improve for 20 rounds\n",
      "Early stopping, best iteration is:\n",
      "[399]\tvalid_0's l2: 5.70151e+08\n",
      "Training until validation scores don't improve for 20 rounds\n",
      "Early stopping, best iteration is:\n",
      "[109]\tvalid_0's l2: 5.74587e+08\n",
      "Training until validation scores don't improve for 20 rounds\n",
      "Did not meet early stopping. Best iteration is:\n",
      "[500]\tvalid_0's l2: 6.04229e+08\n",
      "Training until validation scores don't improve for 20 rounds\n",
      "Early stopping, best iteration is:\n",
      "[453]\tvalid_0's l2: 5.72253e+08\n",
      "Training until validation scores don't improve for 20 rounds\n",
      "Early stopping, best iteration is:\n",
      "[97]\tvalid_0's l2: 5.68819e+08\n",
      "Training until validation scores don't improve for 20 rounds\n",
      "Did not meet early stopping. Best iteration is:\n",
      "[499]\tvalid_0's l2: 5.77934e+08\n",
      "Training until validation scores don't improve for 20 rounds\n",
      "Early stopping, best iteration is:\n",
      "[77]\tvalid_0's l2: 5.71332e+08\n",
      "Training until validation scores don't improve for 20 rounds\n",
      "Early stopping, best iteration is:\n",
      "[413]\tvalid_0's l2: 5.6723e+08\n",
      "Training until validation scores don't improve for 20 rounds\n",
      "Did not meet early stopping. Best iteration is:\n",
      "[493]\tvalid_0's l2: 5.68839e+08\n",
      "Training until validation scores don't improve for 20 rounds\n",
      "Early stopping, best iteration is:\n",
      "[285]\tvalid_0's l2: 5.67617e+08\n",
      "Training until validation scores don't improve for 20 rounds\n",
      "Did not meet early stopping. Best iteration is:\n",
      "[499]\tvalid_0's l2: 5.685e+08\n",
      "Number of finished trials:  25\n",
      "Best trial:\n",
      "  Value: 23798.021822796592\n",
      "  Params: \n",
      "    n_estimators: 500\n",
      "    reg_alpha: 0.10105027037232917\n",
      "    reg_lambda: 0.564961891535629\n",
      "    colsample_bytree: 0.7\n",
      "    subsample: 0.4\n",
      "    learning_rate: 0.15\n",
      "    max_depth: 5\n",
      "    num_leaves: 546\n",
      "    min_child_samples: 195\n",
      "    min_data_per_groups: 64\n",
      "[LightGBM] [Warning] Unknown parameter: min_data_per_groups\n",
      "Training until validation scores don't improve for 50 rounds\n",
      "Early stopping, best iteration is:\n",
      "[144]\tvalid_0's l2: 5.66948e+08\n",
      "\u001B[34mmape train: 0.463 || mape val: 0.475\u001B[0m\n",
      "\u001B[32mpreds_sin_declarado.pkl saved in s3://data-science-kavak-dev/projects/cerberus/v2/dev/income/models_test/\u001B[0m\n"
     ]
    }
   ],
   "source": [
    "lgbm = LigthTrainer()\n",
    "lgbm.fit(train,model_name=\"sin_declarado\", to_drop=['researchable_id', 'estimate', 'declarativa','net_income_verified'], target=\"ingreso_neto_comprobado\")\n",
    "lgbm.X_train = train[lgbm.columns]\n",
    "lgbm.y_train = train[lgbm.target].clip(0,100000)\n",
    "lgbm.X_test = test_df[lgbm.columns]\n",
    "lgbm.y_test = test_df[lgbm.target]\n",
    "\n",
    "lgbm.optimize()\n",
    "lgbm.evaluate()\n",
    "lgbm.save_model(\"preds_sin_declarado\")\n"
   ]
  },
  {
   "cell_type": "markdown",
   "id": "90440997",
   "metadata": {},
   "source": [
    "\n"
   ]
  }
 ],
 "metadata": {
  "kernelspec": {
   "display_name": "conda_python3",
   "language": "python",
   "name": "conda_python3"
  },
  "language_info": {
   "codemirror_mode": {
    "name": "ipython",
    "version": 3
   },
   "file_extension": ".py",
   "mimetype": "text/x-python",
   "name": "python",
   "nbconvert_exporter": "python",
   "pygments_lexer": "ipython3",
   "version": "3.8.12"
  }
 },
 "nbformat": 4,
 "nbformat_minor": 5
}